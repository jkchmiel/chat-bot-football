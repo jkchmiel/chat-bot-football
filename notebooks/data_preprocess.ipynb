{
 "cells": [
  {
   "cell_type": "code",
   "execution_count": 1,
   "metadata": {},
   "outputs": [],
   "source": [
    "import pandas as pd\n",
    "import glob\n",
    "import os"
   ]
  },
  {
   "cell_type": "code",
   "execution_count": 2,
   "metadata": {},
   "outputs": [],
   "source": [
    "# http://www.football-data.co.uk\n",
    "SOURCE_FOLDER_FILES_PATTERN = \"../knowledge/data/source/*.csv\"\n",
    "FINAL_SET_FOLDER = \"../knowledge/data\"\n",
    "FINAL_SET_NAME = 'football_stats.csv'\n",
    "FINAL_SET_FULL_PATH = os.path.join(FINAL_SET_FOLDER, FINAL_SET_NAME)"
   ]
  },
  {
   "cell_type": "code",
   "execution_count": 4,
   "metadata": {},
   "outputs": [],
   "source": [
    "files = glob.glob(SOURCE_FOLDER_FILES_PATTERN)\n",
    "# print(files)"
   ]
  },
  {
   "cell_type": "code",
   "execution_count": 5,
   "metadata": {},
   "outputs": [],
   "source": [
    "SELECTED_COLUMNS = ['Div', 'HomeTeam', 'AwayTeam', 'FTHG', 'FTAG', 'FTR'] #, 'Date', 'HTHG','HTAG', 'HTR'"
   ]
  },
  {
   "cell_type": "code",
   "execution_count": 6,
   "metadata": {},
   "outputs": [],
   "source": [
    "football = pd.DataFrame(columns=SELECTED_COLUMNS, index = None)\n",
    "for file in files:\n",
    "    football = football.append(pd.read_csv(file)[SELECTED_COLUMNS])"
   ]
  },
  {
   "cell_type": "code",
   "execution_count": 7,
   "metadata": {},
   "outputs": [
    {
     "data": {
      "text/html": [
       "<div>\n",
       "<style scoped>\n",
       "    .dataframe tbody tr th:only-of-type {\n",
       "        vertical-align: middle;\n",
       "    }\n",
       "\n",
       "    .dataframe tbody tr th {\n",
       "        vertical-align: top;\n",
       "    }\n",
       "\n",
       "    .dataframe thead th {\n",
       "        text-align: right;\n",
       "    }\n",
       "</style>\n",
       "<table border=\"1\" class=\"dataframe\">\n",
       "  <thead>\n",
       "    <tr style=\"text-align: right;\">\n",
       "      <th></th>\n",
       "      <th>Div</th>\n",
       "      <th>HomeTeam</th>\n",
       "      <th>AwayTeam</th>\n",
       "      <th>FTHG</th>\n",
       "      <th>FTAG</th>\n",
       "      <th>FTR</th>\n",
       "    </tr>\n",
       "  </thead>\n",
       "  <tbody>\n",
       "    <tr>\n",
       "      <th>0</th>\n",
       "      <td>F1</td>\n",
       "      <td>Monaco</td>\n",
       "      <td>Toulouse</td>\n",
       "      <td>3</td>\n",
       "      <td>2</td>\n",
       "      <td>H</td>\n",
       "    </tr>\n",
       "    <tr>\n",
       "      <th>1</th>\n",
       "      <td>F1</td>\n",
       "      <td>Lyon</td>\n",
       "      <td>Strasbourg</td>\n",
       "      <td>4</td>\n",
       "      <td>0</td>\n",
       "      <td>H</td>\n",
       "    </tr>\n",
       "    <tr>\n",
       "      <th>2</th>\n",
       "      <td>F1</td>\n",
       "      <td>Metz</td>\n",
       "      <td>Guingamp</td>\n",
       "      <td>1</td>\n",
       "      <td>3</td>\n",
       "      <td>A</td>\n",
       "    </tr>\n",
       "    <tr>\n",
       "      <th>3</th>\n",
       "      <td>F1</td>\n",
       "      <td>Montpellier</td>\n",
       "      <td>Caen</td>\n",
       "      <td>1</td>\n",
       "      <td>0</td>\n",
       "      <td>H</td>\n",
       "    </tr>\n",
       "    <tr>\n",
       "      <th>4</th>\n",
       "      <td>F1</td>\n",
       "      <td>Paris SG</td>\n",
       "      <td>Amiens</td>\n",
       "      <td>2</td>\n",
       "      <td>0</td>\n",
       "      <td>H</td>\n",
       "    </tr>\n",
       "  </tbody>\n",
       "</table>\n",
       "</div>"
      ],
      "text/plain": [
       "  Div     HomeTeam    AwayTeam FTHG FTAG FTR\n",
       "0  F1       Monaco    Toulouse    3    2   H\n",
       "1  F1         Lyon  Strasbourg    4    0   H\n",
       "2  F1         Metz    Guingamp    1    3   A\n",
       "3  F1  Montpellier        Caen    1    0   H\n",
       "4  F1     Paris SG      Amiens    2    0   H"
      ]
     },
     "execution_count": 7,
     "metadata": {},
     "output_type": "execute_result"
    }
   ],
   "source": [
    "football.head()"
   ]
  },
  {
   "cell_type": "code",
   "execution_count": 8,
   "metadata": {},
   "outputs": [
    {
     "data": {
      "text/plain": [
       "F1     140\n",
       "I1     138\n",
       "E0     130\n",
       "SP1    130\n",
       "D1     117\n",
       "Name: Div, dtype: int64"
      ]
     },
     "execution_count": 8,
     "metadata": {},
     "output_type": "execute_result"
    }
   ],
   "source": [
    "football[\"Div\"].value_counts()"
   ]
  },
  {
   "cell_type": "code",
   "execution_count": 15,
   "metadata": {},
   "outputs": [
    {
     "data": {
      "text/plain": [
       "H    296\n",
       "A    206\n",
       "D    153\n",
       "Name: FTR, dtype: int64"
      ]
     },
     "execution_count": 15,
     "metadata": {},
     "output_type": "execute_result"
    }
   ],
   "source": [
    "football[\"FTR\"].value_counts()"
   ]
  },
  {
   "cell_type": "code",
   "execution_count": 22,
   "metadata": {},
   "outputs": [
    {
     "data": {
      "text/plain": [
       "Italy      20\n",
       "France     20\n",
       "Spain      20\n",
       "England    20\n",
       "Germany    18\n",
       "Name: Div, dtype: int64"
      ]
     },
     "execution_count": 22,
     "metadata": {},
     "output_type": "execute_result"
    }
   ],
   "source": [
    "RESULTS_COLUMNS_MAPPING = {\n",
    "    \"HomeTeam\": {\n",
    "        \"FTR_A\": \"HL\",\n",
    "        \"FTR_H\": \"HW\",\n",
    "        \"FTR_D\": \"HD\"\n",
    "    },\n",
    "    \"AwayTeam\": {\n",
    "        \"FTR_A\": \"AW\",\n",
    "        \"FTR_H\": \"AL\",\n",
    "        \"FTR_D\": \"AD\"        \n",
    "    }\n",
    "}\n",
    "\n",
    "COUNTRY_DIVISION_MAPPING = {\n",
    "    \"E0\": \"England\",\n",
    "    \"D1\": \"Germany\",\n",
    "    \"F1\": \"France\",\n",
    "    \"SP1\": \"Spain\",\n",
    "    \"I1\": \"Italy\"\n",
    "}\n",
    "\n",
    "def get_results(df, home_away_team):\n",
    "    df_grouped = pd.get_dummies(football, columns = ['FTR']).groupby([home_away_team]).sum()\n",
    "    return df_grouped.rename(RESULTS_COLUMNS_MAPPING[home_away_team], axis=\"columns\")\n",
    "        \n",
    "results = get_results(football, \"HomeTeam\").\\\n",
    "      merge(get_results(football, \"AwayTeam\"),left_index = True, right_index = True).reset_index().\\\n",
    "      rename({\"HomeTeam\":\"team\"}, axis=\"columns\").\\\n",
    "      merge(football[[\"Div\", \"HomeTeam\"]].drop_duplicates().rename({\"HomeTeam\":\"team\"}, axis=\"columns\"),\n",
    "            on = ['team'])\n",
    "\n",
    "results[\"W\"] = results[\"HW\"] + results[\"AW\"]\n",
    "results[\"L\"] = results[\"HL\"] + results[\"AL\"]\n",
    "results[\"D\"] = results[\"HD\"] + results[\"AD\"]\n",
    "results[\"points\"] = results[\"W\"] * 3 + results[\"D\"] *1\n",
    "results[\"home_points\"] = results[\"HW\"] * 3 + results[\"HD\"] *1\n",
    "results[\"away_points\"] = results[\"AW\"] * 3 + results[\"AD\"] *1\n",
    "results[\"country\"] = results[\"Div\"].map(COUNTRY_DIVISION_MAPPING)\n",
    "\n",
    "results.sort_values('Div',inplace = True)\n",
    "\n",
    "results.to_csv(FINAL_SET_FULL_PATH, index = False)\n",
    "results[\"Div\"].map(COUNTRY_DIVISION_MAPPING).value_counts()"
   ]
  },
  {
   "cell_type": "code",
   "execution_count": null,
   "metadata": {},
   "outputs": [],
   "source": []
  },
  {
   "cell_type": "code",
   "execution_count": 11,
   "metadata": {},
   "outputs": [],
   "source": [
    "def make_entity(df, column_name):\n",
    "    for x in list(df[column_name].unique()):\n",
    "        print('\"{}\",\"{}\"'.format(x,x))"
   ]
  },
  {
   "cell_type": "code",
   "execution_count": 13,
   "metadata": {},
   "outputs": [
    {
     "name": "stdout",
     "output_type": "stream",
     "text": [
      "\"Wolfsburg\",\"Wolfsburg\"\n",
      "\"Ein Frankfurt\",\"Ein Frankfurt\"\n",
      "\"Hamburg\",\"Hamburg\"\n",
      "\"Dortmund\",\"Dortmund\"\n",
      "\"Hannover\",\"Hannover\"\n",
      "\"Hertha\",\"Hertha\"\n",
      "\"Hoffenheim\",\"Hoffenheim\"\n",
      "\"Leverkusen\",\"Leverkusen\"\n",
      "\"M'gladbach\",\"M'gladbach\"\n",
      "\"Mainz\",\"Mainz\"\n",
      "\"Freiburg\",\"Freiburg\"\n",
      "\"RB Leipzig\",\"RB Leipzig\"\n",
      "\"FC Koln\",\"FC Koln\"\n",
      "\"Werder Bremen\",\"Werder Bremen\"\n",
      "\"Bayern Munich\",\"Bayern Munich\"\n",
      "\"Augsburg\",\"Augsburg\"\n",
      "\"Schalke 04\",\"Schalke 04\"\n",
      "\"Stuttgart\",\"Stuttgart\"\n",
      "\"Newcastle\",\"Newcastle\"\n",
      "\"West Brom\",\"West Brom\"\n",
      "\"Watford\",\"Watford\"\n",
      "\"Tottenham\",\"Tottenham\"\n",
      "\"Swansea\",\"Swansea\"\n",
      "\"Huddersfield\",\"Huddersfield\"\n",
      "\"Liverpool\",\"Liverpool\"\n",
      "\"Stoke\",\"Stoke\"\n",
      "\"Man City\",\"Man City\"\n",
      "\"Southampton\",\"Southampton\"\n",
      "\"West Ham\",\"West Ham\"\n",
      "\"Man United\",\"Man United\"\n",
      "\"Leicester\",\"Leicester\"\n",
      "\"Crystal Palace\",\"Crystal Palace\"\n",
      "\"Burnley\",\"Burnley\"\n",
      "\"Brighton\",\"Brighton\"\n",
      "\"Bournemouth\",\"Bournemouth\"\n",
      "\"Chelsea\",\"Chelsea\"\n",
      "\"Arsenal\",\"Arsenal\"\n",
      "\"Everton\",\"Everton\"\n",
      "\"Monaco\",\"Monaco\"\n",
      "\"Metz\",\"Metz\"\n",
      "\"Marseille\",\"Marseille\"\n",
      "\"Bordeaux\",\"Bordeaux\"\n",
      "\"Rennes\",\"Rennes\"\n",
      "\"Paris SG\",\"Paris SG\"\n",
      "\"Caen\",\"Caen\"\n",
      "\"Lyon\",\"Lyon\"\n",
      "\"Lille\",\"Lille\"\n",
      "\"Montpellier\",\"Montpellier\"\n",
      "\"Nantes\",\"Nantes\"\n",
      "\"Nice\",\"Nice\"\n",
      "\"Troyes\",\"Troyes\"\n",
      "\"Amiens\",\"Amiens\"\n",
      "\"Angers\",\"Angers\"\n",
      "\"St Etienne\",\"St Etienne\"\n",
      "\"Strasbourg\",\"Strasbourg\"\n",
      "\"Guingamp\",\"Guingamp\"\n",
      "\"Toulouse\",\"Toulouse\"\n",
      "\"Dijon\",\"Dijon\"\n",
      "\"Verona\",\"Verona\"\n",
      "\"Bologna\",\"Bologna\"\n",
      "\"Sampdoria\",\"Sampdoria\"\n",
      "\"Benevento\",\"Benevento\"\n",
      "\"Atalanta\",\"Atalanta\"\n",
      "\"Torino\",\"Torino\"\n",
      "\"Roma\",\"Roma\"\n",
      "\"Spal\",\"Spal\"\n",
      "\"Udinese\",\"Udinese\"\n",
      "\"Sassuolo\",\"Sassuolo\"\n",
      "\"Fiorentina\",\"Fiorentina\"\n",
      "\"Milan\",\"Milan\"\n",
      "\"Genoa\",\"Genoa\"\n",
      "\"Cagliari\",\"Cagliari\"\n",
      "\"Crotone\",\"Crotone\"\n",
      "\"Lazio\",\"Lazio\"\n",
      "\"Chievo\",\"Chievo\"\n",
      "\"Inter\",\"Inter\"\n",
      "\"Juventus\",\"Juventus\"\n",
      "\"Napoli\",\"Napoli\"\n",
      "\"Espanol\",\"Espanol\"\n",
      "\"Getafe\",\"Getafe\"\n",
      "\"Villarreal\",\"Villarreal\"\n",
      "\"Girona\",\"Girona\"\n",
      "\"Valencia\",\"Valencia\"\n",
      "\"Eibar\",\"Eibar\"\n",
      "\"Ath Madrid\",\"Ath Madrid\"\n",
      "\"La Coruna\",\"La Coruna\"\n",
      "\"Barcelona\",\"Barcelona\"\n",
      "\"Las Palmas\",\"Las Palmas\"\n",
      "\"Leganes\",\"Leganes\"\n",
      "\"Sociedad\",\"Sociedad\"\n",
      "\"Sevilla\",\"Sevilla\"\n",
      "\"Betis\",\"Betis\"\n",
      "\"Levante\",\"Levante\"\n",
      "\"Celta\",\"Celta\"\n",
      "\"Malaga\",\"Malaga\"\n",
      "\"Real Madrid\",\"Real Madrid\"\n",
      "\"Ath Bilbao\",\"Ath Bilbao\"\n",
      "\"Alaves\",\"Alaves\"\n"
     ]
    }
   ],
   "source": [
    "make_entity(results, \"team\")"
   ]
  },
  {
   "cell_type": "code",
   "execution_count": null,
   "metadata": {},
   "outputs": [],
   "source": [
    "make_entity(football, \"HomeTeam\")"
   ]
  }
 ],
 "metadata": {
  "kernelspec": {
   "display_name": "Python 3",
   "language": "python",
   "name": "python3"
  },
  "language_info": {
   "codemirror_mode": {
    "name": "ipython",
    "version": 3
   },
   "file_extension": ".py",
   "mimetype": "text/x-python",
   "name": "python",
   "nbconvert_exporter": "python",
   "pygments_lexer": "ipython3",
   "version": "3.5.2"
  }
 },
 "nbformat": 4,
 "nbformat_minor": 2
}
