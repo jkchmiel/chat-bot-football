{
 "cells": [
  {
   "cell_type": "code",
   "execution_count": 7,
   "metadata": {},
   "outputs": [],
   "source": [
    "import pandas as pd\n",
    "import os \n",
    "\n",
    "FINAL_SET_FOLDER = \"../knowledge/data\"\n",
    "FINAL_SET_NAME = 'football_stats.csv'\n",
    "FINAL_SET_FULL_PATH = os.path.join(FINAL_SET_FOLDER, FINAL_SET_NAME)"
   ]
  },
  {
   "cell_type": "code",
   "execution_count": 9,
   "metadata": {},
   "outputs": [
    {
     "data": {
      "text/plain": [
       "{'AD': {0: 3, 1: 3, 2: 0, 3: 2, 4: 2},\n",
       " 'AL': {0: 2, 1: 1, 2: 5, 3: 2, 4: 3},\n",
       " 'AW': {0: 1, 1: 3, 2: 1, 3: 3, 4: 2},\n",
       " 'D': {0: 8, 1: 4, 2: 1, 3: 3, 4: 4},\n",
       " 'Div': {0: 'D1', 1: 'D1', 2: 'D1', 3: 'D1', 4: 'D1'},\n",
       " 'HD': {0: 5, 1: 1, 2: 1, 3: 1, 4: 2},\n",
       " 'HL': {0: 1, 1: 3, 2: 3, 3: 2, 4: 1},\n",
       " 'HW': {0: 1, 1: 2, 2: 3, 3: 3, 4: 3},\n",
       " 'L': {0: 3, 1: 4, 2: 8, 3: 4, 4: 4},\n",
       " 'W': {0: 2, 1: 5, 2: 4, 3: 6, 4: 5},\n",
       " 'away_points': {0: 6, 1: 12, 2: 3, 3: 11, 4: 8},\n",
       " 'home_points': {0: 8, 1: 7, 2: 10, 3: 10, 4: 11},\n",
       " 'points': {0: 14, 1: 19, 2: 13, 3: 21, 4: 19},\n",
       " 'team': {0: 'Wolfsburg',\n",
       "  1: 'Ein Frankfurt',\n",
       "  2: 'Hamburg',\n",
       "  3: 'Dortmund',\n",
       "  4: 'Hannover'}}"
      ]
     },
     "execution_count": 9,
     "metadata": {},
     "output_type": "execute_result"
    }
   ],
   "source": [
    "data = pd.read_csv(FINAL_SET_FULL_PATH)\n",
    "data.head().to_dict()"
   ]
  },
  {
   "cell_type": "code",
   "execution_count": 42,
   "metadata": {},
   "outputs": [
    {
     "data": {
      "text/plain": [
       "'Top team in Spain is Barcelona'"
      ]
     },
     "execution_count": 42,
     "metadata": {},
     "output_type": "execute_result"
    }
   ],
   "source": [
    "# top team intent\n",
    "def get_final_dict(data, division, home_away=None):\n",
    "    filtered_data = data[data[\"Div\"]==division]\n",
    "    if home_away:\n",
    "        pass\n",
    "    else:\n",
    "        return filtered_data.loc[filtered_data['points'].idxmax()].to_dict()\n",
    "        \n",
    "final_dict = get_final_dict(data, 'SP1')\n",
    "\n",
    "# prepare answer\n",
    "ANSWER_TEMPLATE = \"The top team in {} is {}\"\n",
    "final_dict.get(\"team\")\n",
    "ANSWER_TEMPLATE.format(\"Spain\", final_dict.get(\"team\"))"
   ]
  },
  {
   "cell_type": "code",
   "execution_count": 35,
   "metadata": {},
   "outputs": [
    {
     "data": {
      "text/plain": [
       "{'AD': 2,\n",
       " 'AL': 0,\n",
       " 'AW': 5,\n",
       " 'D': 2,\n",
       " 'Div': 'SP1',\n",
       " 'HD': 0,\n",
       " 'HL': 0,\n",
       " 'HW': 6,\n",
       " 'L': 0,\n",
       " 'W': 11,\n",
       " 'away_points': 17,\n",
       " 'home_points': 18,\n",
       " 'points': 35,\n",
       " 'team': 'Barcelona'}"
      ]
     },
     "execution_count": 35,
     "metadata": {},
     "output_type": "execute_result"
    }
   ],
   "source": [
    "# number and percentage of wins\n",
    "def get_final_dict(data, team, home_away=None):\n",
    "    index_value = data[data[\"team\"]==team].index.tolist()[0]\n",
    "    return data.loc[index_value].to_dict()\n",
    "\n",
    "get_result(data, \"Barcelona\")"
   ]
  }
 ],
 "metadata": {
  "kernelspec": {
   "display_name": "Python 3",
   "language": "python",
   "name": "python3"
  },
  "language_info": {
   "codemirror_mode": {
    "name": "ipython",
    "version": 3
   },
   "file_extension": ".py",
   "mimetype": "text/x-python",
   "name": "python",
   "nbconvert_exporter": "python",
   "pygments_lexer": "ipython3",
   "version": "3.5.2"
  }
 },
 "nbformat": 4,
 "nbformat_minor": 2
}
